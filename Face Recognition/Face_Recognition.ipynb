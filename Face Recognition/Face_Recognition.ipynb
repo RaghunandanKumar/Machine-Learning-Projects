{
 "cells": [
  {
   "cell_type": "code",
   "execution_count": 5,
   "metadata": {
    "colab": {},
    "colab_type": "code",
    "id": "IPi5C2TdE-wq"
   },
   "outputs": [
    {
     "name": "stdout",
     "output_type": "stream",
     "text": [
      "[True]\n"
     ]
    },
    {
     "data": {
      "text/plain": [
       "-1"
      ]
     },
     "execution_count": 5,
     "metadata": {},
     "output_type": "execute_result"
    }
   ],
   "source": [
    "import cv2\n",
    "import numpy as np\n",
    "import face_recognition\n",
    "\n",
    "imgElon = face_recognition.load_image_file('Face Recognition Data/train/bill/5ec7e9e03f73704f0e12cb24.jpg')\n",
    "imgElon = cv2.cvtColor(imgElon,cv2.COLOR_BGR2RGB)\n",
    "\n",
    "imgElon_test = face_recognition.load_image_file('Face Recognition Data/test/bill/grimes-elon-musk-met-gala-2-g-billboard-1548-1595340806-768x508.jpg')\n",
    "imgElon_test = cv2.cvtColor(imgElon_test,cv2.COLOR_BGR2RGB)\n",
    "\n",
    "faceLoc = face_recognition.face_locations(imgElon)[0]\n",
    "encodeElon = face_recognition.face_encodings(imgElon)[0]\n",
    "cv2.rectangle(imgElon,(faceLoc[3],faceLoc[0]),(faceLoc[1],faceLoc[2]),(255,0,255),2)\n",
    "\n",
    "faceLocTest = face_recognition.face_locations(imgElon_test)[0]\n",
    "encodeTest = face_recognition.face_encodings(imgElon_test)[0]\n",
    "cv2.rectangle(imgElon_test,(faceLocTest[3],faceLocTest[0]),(faceLocTest[1],faceLocTest[2]),(255,0,255),2)\n",
    "\n",
    "faceDis = face_recognition.face_distance([encodeElon], encodeTest)\n",
    "cv2.putText(imgElon_test,f'{results} {round(faceDis[0],2)} ',(50,50),cv2.FONT_HERSHEY_COMPLEX,1,(255,0,255),3)\n",
    "\n",
    "cv2.imshow('Elon Musk',imgElon)\n",
    "cv2.imshow('Elon Musk',imgElon_test)\n",
    "\n",
    "results = face_recognition.compare_faces([encodeElon],encodeTest)\n",
    "print(results)\n",
    "cv2.waitKey(0)"
   ]
  },
  {
   "cell_type": "raw",
   "metadata": {
    "colab": {},
    "colab_type": "code",
    "id": "-nonFcZWH3Bn"
   },
   "source": [
    "\n"
   ]
  },
  {
   "cell_type": "code",
   "execution_count": 13,
   "metadata": {},
   "outputs": [],
   "source": []
  },
  {
   "cell_type": "code",
   "execution_count": 6,
   "metadata": {
    "colab": {},
    "colab_type": "code",
    "id": "xZA0vBYCInGr"
   },
   "outputs": [
    {
     "data": {
      "text/plain": [
       "-1"
      ]
     },
     "execution_count": 6,
     "metadata": {},
     "output_type": "execute_result"
    }
   ],
   "source": []
  },
  {
   "cell_type": "code",
   "execution_count": null,
   "metadata": {
    "colab": {},
    "colab_type": "code",
    "id": "ZEVEeu_LJqrT"
   },
   "outputs": [],
   "source": []
  }
 ],
 "metadata": {
  "accelerator": "GPU",
  "colab": {
   "name": "Face Recognition.ipynb",
   "private_outputs": true,
   "provenance": []
  },
  "kernelspec": {
   "display_name": "Python 3",
   "language": "python",
   "name": "python3"
  },
  "language_info": {
   "codemirror_mode": {
    "name": "ipython",
    "version": 3
   },
   "file_extension": ".py",
   "mimetype": "text/x-python",
   "name": "python",
   "nbconvert_exporter": "python",
   "pygments_lexer": "ipython3",
   "version": "3.6.5"
  }
 },
 "nbformat": 4,
 "nbformat_minor": 1
}
