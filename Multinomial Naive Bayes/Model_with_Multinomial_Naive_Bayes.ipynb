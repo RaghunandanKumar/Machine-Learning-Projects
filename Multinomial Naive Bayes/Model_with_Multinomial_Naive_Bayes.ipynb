{
  "nbformat": 4,
  "nbformat_minor": 0,
  "metadata": {
    "colab": {
      "name": "Model with Multinomial Naive Bayes",
      "provenance": [],
      "collapsed_sections": [],
      "machine_shape": "hm"
    },
    "kernelspec": {
      "name": "python3",
      "display_name": "Python 3"
    }
  },
  "cells": [
    {
      "cell_type": "code",
      "metadata": {
        "id": "8JPpkYn0UiZk",
        "colab_type": "code",
        "colab": {}
      },
      "source": [
        "import pandas as pd\n",
        "data = pd.read_csv('preprocessed_data.csv')"
      ],
      "execution_count": 1,
      "outputs": []
    },
    {
      "cell_type": "code",
      "metadata": {
        "id": "eyFG-YC9Uxy_",
        "colab_type": "code",
        "colab": {}
      },
      "source": [
        "%matplotlib inline\n",
        "import warnings\n",
        "warnings.filterwarnings(\"ignore\")\n",
        "from sklearn.feature_extraction.text import TfidfVectorizer\n",
        "from sklearn.feature_extraction.text import CountVectorizer\n",
        "from sklearn.metrics import confusion_matrix\n",
        "from sklearn import metrics\n",
        "from sklearn.metrics import roc_curve, auc"
      ],
      "execution_count": 2,
      "outputs": []
    },
    {
      "cell_type": "markdown",
      "metadata": {
        "id": "Oyfm0CMmfsNS",
        "colab_type": "text"
      },
      "source": [
        "## Splitting the data into X and Y labels where X is feutures and Y is Prediction class"
      ]
    },
    {
      "cell_type": "code",
      "metadata": {
        "id": "AWSgomQdWDIC",
        "colab_type": "code",
        "colab": {
          "base_uri": "https://localhost:8080/",
          "height": 202
        },
        "outputId": "59807731-6316-4d5d-a559-2270a33fdb11"
      },
      "source": [
        "y = data['project_is_approved'].values\n",
        "X = data.drop(['project_is_approved'], axis=1)\n",
        "X.head(1)"
      ],
      "execution_count": 3,
      "outputs": [
        {
          "output_type": "execute_result",
          "data": {
            "text/html": [
              "<div>\n",
              "<style scoped>\n",
              "    .dataframe tbody tr th:only-of-type {\n",
              "        vertical-align: middle;\n",
              "    }\n",
              "\n",
              "    .dataframe tbody tr th {\n",
              "        vertical-align: top;\n",
              "    }\n",
              "\n",
              "    .dataframe thead th {\n",
              "        text-align: right;\n",
              "    }\n",
              "</style>\n",
              "<table border=\"1\" class=\"dataframe\">\n",
              "  <thead>\n",
              "    <tr style=\"text-align: right;\">\n",
              "      <th></th>\n",
              "      <th>school_state</th>\n",
              "      <th>teacher_prefix</th>\n",
              "      <th>project_grade_category</th>\n",
              "      <th>teacher_number_of_previously_posted_projects</th>\n",
              "      <th>clean_categories</th>\n",
              "      <th>clean_subcategories</th>\n",
              "      <th>essay</th>\n",
              "      <th>price</th>\n",
              "    </tr>\n",
              "  </thead>\n",
              "  <tbody>\n",
              "    <tr>\n",
              "      <th>0</th>\n",
              "      <td>ca</td>\n",
              "      <td>mrs</td>\n",
              "      <td>grades_prek_2</td>\n",
              "      <td>53</td>\n",
              "      <td>math_science</td>\n",
              "      <td>appliedsciences health_lifescience</td>\n",
              "      <td>i fortunate enough use fairy tale stem kits cl...</td>\n",
              "      <td>725.05</td>\n",
              "    </tr>\n",
              "  </tbody>\n",
              "</table>\n",
              "</div>"
            ],
            "text/plain": [
              "  school_state  ...   price\n",
              "0           ca  ...  725.05\n",
              "\n",
              "[1 rows x 8 columns]"
            ]
          },
          "metadata": {
            "tags": []
          },
          "execution_count": 3
        }
      ]
    },
    {
      "cell_type": "markdown",
      "metadata": {
        "id": "Dzb2AriHf72P",
        "colab_type": "text"
      },
      "source": [
        "## Splitting the data into Train, CV and Test where out of all the data 70% is used for training model and 30% will be used for testing the model"
      ]
    },
    {
      "cell_type": "code",
      "metadata": {
        "id": "2WSPoiQvWHgu",
        "colab_type": "code",
        "colab": {}
      },
      "source": [
        "from sklearn.model_selection import train_test_split\n",
        "X_train, X_test, y_train, y_test = train_test_split(X, y, test_size=0.3, stratify=y)\n",
        "X_train, X_cv, y_train, y_cv = train_test_split(X_train, y_train, test_size=0.3, stratify=y_train)"
      ],
      "execution_count": 4,
      "outputs": []
    },
    {
      "cell_type": "markdown",
      "metadata": {
        "id": "Kx549qv4gWLp",
        "colab_type": "text"
      },
      "source": [
        "## Calculating Bag of Words for essay column"
      ]
    },
    {
      "cell_type": "code",
      "metadata": {
        "id": "uG1nOaj4E8Xm",
        "colab_type": "code",
        "colab": {
          "base_uri": "https://localhost:8080/",
          "height": 170
        },
        "outputId": "7d08a1ec-e2f4-4138-ea8c-bbb26d20d608"
      },
      "source": [
        "print(X_train.shape, y_train.shape)\n",
        "print(X_cv.shape, y_cv.shape)\n",
        "print(X_test.shape, y_test.shape)\n",
        "\n",
        "print(\"=\"*100)\n",
        "\n",
        "\n",
        "vectorizer = CountVectorizer(min_df=10,ngram_range=(1,4))\n",
        "vectorizer.fit(X_train['essay'].values) # fit has to happen only on train data\n",
        "\n",
        "# we use the fitted CountVectorizer to convert the text to vector\n",
        "X_train_essay_bow = vectorizer.transform(X_train['essay'].values)\n",
        "X_cv_essay_bow = vectorizer.transform(X_cv['essay'].values)\n",
        "X_test_essay_bow = vectorizer.transform(X_test['essay'].values)\n",
        "\n",
        "print(\"After vectorizations\")\n",
        "print(X_train_essay_bow.shape, y_train.shape)\n",
        "print(X_cv_essay_bow.shape, y_cv.shape)\n",
        "print(X_test_essay_bow.shape, y_test.shape)\n",
        "print(\"=\"*100)"
      ],
      "execution_count": 5,
      "outputs": [
        {
          "output_type": "stream",
          "text": [
            "(53531, 8) (53531,)\n",
            "(22942, 8) (22942,)\n",
            "(32775, 8) (32775,)\n",
            "====================================================================================================\n",
            "After vectorizations\n",
            "(53531, 182500) (53531,)\n",
            "(22942, 182500) (22942,)\n",
            "(32775, 182500) (32775,)\n",
            "====================================================================================================\n"
          ],
          "name": "stdout"
        }
      ]
    },
    {
      "cell_type": "markdown",
      "metadata": {
        "id": "vMmw2vZLgjqC",
        "colab_type": "text"
      },
      "source": [
        "## Calculating TF-IDF for essay column"
      ]
    },
    {
      "cell_type": "code",
      "metadata": {
        "id": "_AKgctKxb3BU",
        "colab_type": "code",
        "colab": {
          "base_uri": "https://localhost:8080/",
          "height": 85
        },
        "outputId": "d4ebfe13-56af-47cd-f454-c079054576fa"
      },
      "source": [
        "from sklearn.feature_extraction.text import TfidfVectorizer\n",
        "vectorizer = TfidfVectorizer(min_df=10)\n",
        "vectorizer.fit(X_train['essay'])\n",
        "\n",
        "# text_tfidf = vectorizer.fit_transform(preprocessed_essays)\n",
        "X_train_essay_tf_idf = vectorizer.transform(X_train['essay'])\n",
        "X_cv_essay_tf_idf = vectorizer.transform(X_cv['essay'])\n",
        "X_test_essay_tf_idf = vectorizer.transform(X_test['essay'])\n",
        "\n",
        "print(\"Shape of matrix after tfidf\")\n",
        "print(X_train_essay_tf_idf.shape)\n",
        "print(X_cv_essay_tf_idf.shape)\n",
        "print(X_test_essay_tf_idf.shape)"
      ],
      "execution_count": 6,
      "outputs": [
        {
          "output_type": "stream",
          "text": [
            "Shape of matrix after tfidf\n",
            "(53531, 12597)\n",
            "(22942, 12597)\n",
            "(32775, 12597)\n"
          ],
          "name": "stdout"
        }
      ]
    },
    {
      "cell_type": "markdown",
      "metadata": {
        "id": "BYwKBeku9AJu",
        "colab_type": "text"
      },
      "source": [
        "## Normalizing numerical feutures"
      ]
    },
    {
      "cell_type": "markdown",
      "metadata": {
        "id": "qdL-aCJ0gsc1",
        "colab_type": "text"
      },
      "source": [
        "### Normalizing the Price column"
      ]
    },
    {
      "cell_type": "code",
      "metadata": {
        "id": "TNQUlJmVG0ih",
        "colab_type": "code",
        "colab": {
          "base_uri": "https://localhost:8080/",
          "height": 102
        },
        "outputId": "96af95fa-c27c-4ea7-c6e8-db7959fa7c32"
      },
      "source": [
        "from sklearn.preprocessing import Normalizer\n",
        "normalizer = Normalizer()\n",
        "# normalizer.fit(X_train['price'].values)\n",
        "# this will rise an error Expected 2D array, got 1D array instead: \n",
        "# array=[105.22 215.96  96.01 ... 368.98  80.53 709.67].\n",
        "# Reshape your data either using \n",
        "# array.reshape(-1, 1) if your data has a single feature \n",
        "# array.reshape(1, -1)  if it contains a single sample.\n",
        "normalizer.fit(X_train['price'].values.reshape(-1,1))\n",
        "\n",
        "X_train_price_norm = normalizer.transform(X_train['price'].values.reshape(-1,1))\n",
        "X_cv_price_norm = normalizer.transform(X_cv['price'].values.reshape(-1,1))\n",
        "X_test_price_norm = normalizer.transform(X_test['price'].values.reshape(-1,1))\n",
        "\n",
        "\n",
        "\n",
        "print(\"After vectorizations\")\n",
        "print(X_train_price_norm.shape, y_train.shape)\n",
        "print(X_cv_price_norm.shape, y_cv.shape)\n",
        "print(X_test_price_norm.shape, y_test.shape)\n",
        "print(\"=\"*100)"
      ],
      "execution_count": 7,
      "outputs": [
        {
          "output_type": "stream",
          "text": [
            "After vectorizations\n",
            "(53531, 1) (53531,)\n",
            "(22942, 1) (22942,)\n",
            "(32775, 1) (32775,)\n",
            "====================================================================================================\n"
          ],
          "name": "stdout"
        }
      ]
    },
    {
      "cell_type": "markdown",
      "metadata": {
        "id": "9n7JeK6-8-pT",
        "colab_type": "text"
      },
      "source": [
        "### Normalizing the teacher_number_of_previously_posted_projects column"
      ]
    },
    {
      "cell_type": "code",
      "metadata": {
        "id": "WvaimbpD8-B-",
        "colab_type": "code",
        "colab": {
          "base_uri": "https://localhost:8080/",
          "height": 102
        },
        "outputId": "ad0fdf17-616a-45a6-a3a5-75b8f246125a"
      },
      "source": [
        "from sklearn.preprocessing import Normalizer\n",
        "normalizer = Normalizer()\n",
        "# normalizer.fit(X_train['price'].values)\n",
        "# this will rise an error Expected 2D array, got 1D array instead: \n",
        "# array=[105.22 215.96  96.01 ... 368.98  80.53 709.67].\n",
        "# Reshape your data either using \n",
        "# array.reshape(-1, 1) if your data has a single feature \n",
        "# array.reshape(1, -1)  if it contains a single sample.\n",
        "normalizer.fit(X_train['teacher_number_of_previously_posted_projects'].values.reshape(-1,1))\n",
        "\n",
        "X_train_preposted_projects_norm = normalizer.transform(X_train['teacher_number_of_previously_posted_projects'].values.reshape(-1,1))\n",
        "X_cv_preposted_projects_norm = normalizer.transform(X_cv['teacher_number_of_previously_posted_projects'].values.reshape(-1,1))\n",
        "X_test_preposted_projects_norm = normalizer.transform(X_test['teacher_number_of_previously_posted_projects'].values.reshape(-1,1))\n",
        "\n",
        "\n",
        "\n",
        "print(\"After vectorizations\")\n",
        "print(X_train_preposted_projects_norm.shape, y_train.shape)\n",
        "print(X_cv_preposted_projects_norm.shape, y_cv.shape)\n",
        "print(X_test_preposted_projects_norm.shape, y_test.shape)\n",
        "print(\"=\"*100)"
      ],
      "execution_count": 8,
      "outputs": [
        {
          "output_type": "stream",
          "text": [
            "After vectorizations\n",
            "(53531, 1) (53531,)\n",
            "(22942, 1) (22942,)\n",
            "(32775, 1) (32775,)\n",
            "====================================================================================================\n"
          ],
          "name": "stdout"
        }
      ]
    },
    {
      "cell_type": "markdown",
      "metadata": {
        "id": "tsx9mMm6wycH",
        "colab_type": "text"
      },
      "source": [
        "## One hot encoding for all the categorical feutures"
      ]
    },
    {
      "cell_type": "markdown",
      "metadata": {
        "id": "QEcTuoXj1RU9",
        "colab_type": "text"
      },
      "source": [
        "### one hot encoding for school state"
      ]
    },
    {
      "cell_type": "code",
      "metadata": {
        "id": "VQdu6uVQww31",
        "colab_type": "code",
        "colab": {
          "base_uri": "https://localhost:8080/",
          "height": 85
        },
        "outputId": "d09fb289-9d04-4319-9506-673d2237b943"
      },
      "source": [
        "vectorizer = CountVectorizer(binary=True)\n",
        "vectorizer.fit(X_train['school_state'].values)\n",
        "X_train_school_state_ohe = vectorizer.transform(X_train['school_state'].values)\n",
        "X_cv_school_state_ohe = vectorizer.transform(X_cv['school_state'].values)\n",
        "X_test_school_state_ohe = vectorizer.transform(X_test['school_state'].values)\n",
        "\n",
        "print(\"Shape of matrix after one hot encodig \")\n",
        "print(X_train_school_state_ohe.shape)\n",
        "print(X_cv_school_state_ohe.shape)\n",
        "print(X_test_school_state_ohe.shape)"
      ],
      "execution_count": 9,
      "outputs": [
        {
          "output_type": "stream",
          "text": [
            "Shape of matrix after one hot encodig \n",
            "(53531, 51)\n",
            "(22942, 51)\n",
            "(32775, 51)\n"
          ],
          "name": "stdout"
        }
      ]
    },
    {
      "cell_type": "markdown",
      "metadata": {
        "id": "E301pjwx1ZI6",
        "colab_type": "text"
      },
      "source": [
        "### one hot encoding for teacher prefix"
      ]
    },
    {
      "cell_type": "code",
      "metadata": {
        "id": "M435GQ9S1X85",
        "colab_type": "code",
        "colab": {
          "base_uri": "https://localhost:8080/",
          "height": 85
        },
        "outputId": "524360b6-9c8c-46d4-c79c-e6bb56b0873d"
      },
      "source": [
        "vectorizer = CountVectorizer(binary=True)\n",
        "vectorizer.fit(X_train['teacher_prefix'].values)\n",
        "X_train_teacher_prefix_ohe = vectorizer.transform(X_train['teacher_prefix'].values)\n",
        "X_cv_teacher_prefix_ohe = vectorizer.transform(X_cv['teacher_prefix'].values)\n",
        "X_test_teacher_prefix_ohe = vectorizer.transform(X_test['teacher_prefix'].values)\n",
        "\n",
        "print(\"Shape of matrix after one hot encodig \")\n",
        "print(X_train_teacher_prefix_ohe.shape)\n",
        "print(X_cv_teacher_prefix_ohe.shape)\n",
        "print(X_test_teacher_prefix_ohe.shape)"
      ],
      "execution_count": 10,
      "outputs": [
        {
          "output_type": "stream",
          "text": [
            "Shape of matrix after one hot encodig \n",
            "(53531, 5)\n",
            "(22942, 5)\n",
            "(32775, 5)\n"
          ],
          "name": "stdout"
        }
      ]
    },
    {
      "cell_type": "markdown",
      "metadata": {
        "id": "AWWn1BNs45Ec",
        "colab_type": "text"
      },
      "source": [
        "### one hot encoding of project grade category\t"
      ]
    },
    {
      "cell_type": "code",
      "metadata": {
        "id": "vUeZ1vI144L-",
        "colab_type": "code",
        "colab": {
          "base_uri": "https://localhost:8080/",
          "height": 85
        },
        "outputId": "63cbef9a-c415-4e3f-cc8b-a5cb3afbcb1e"
      },
      "source": [
        "vectorizer = CountVectorizer(binary=True)\n",
        "vectorizer.fit(X_train['project_grade_category'].values)\n",
        "X_train_project_grade_category_ohe = vectorizer.transform(X_train['project_grade_category'].values)\n",
        "X_cv_project_grade_category_ohe = vectorizer.transform(X_cv['project_grade_category'].values)\n",
        "X_test_project_grade_category_ohe = vectorizer.transform(X_test['project_grade_category'].values)\n",
        "\n",
        "print(\"Shape of matrix after one hot encodig \")\n",
        "print(X_train_project_grade_category_ohe.shape)\n",
        "print(X_cv_project_grade_category_ohe.shape)\n",
        "print(X_test_project_grade_category_ohe.shape)"
      ],
      "execution_count": 11,
      "outputs": [
        {
          "output_type": "stream",
          "text": [
            "Shape of matrix after one hot encodig \n",
            "(53531, 4)\n",
            "(22942, 4)\n",
            "(32775, 4)\n"
          ],
          "name": "stdout"
        }
      ]
    },
    {
      "cell_type": "markdown",
      "metadata": {
        "id": "dcUuP8S15k5N",
        "colab_type": "text"
      },
      "source": [
        "### one hot encoding of categories"
      ]
    },
    {
      "cell_type": "code",
      "metadata": {
        "id": "r024Z54k5keR",
        "colab_type": "code",
        "colab": {
          "base_uri": "https://localhost:8080/",
          "height": 85
        },
        "outputId": "92446801-064f-4acf-ee44-10970682f33c"
      },
      "source": [
        "vectorizer = CountVectorizer(binary=True)\n",
        "vectorizer.fit(X_train['clean_categories'].values)\n",
        "X_train_categories_ohe = vectorizer.transform(X_train['clean_categories'].values)\n",
        "X_cv_categories_ohe = vectorizer.transform(X_cv['clean_categories'].values)\n",
        "X_test_categories_ohe = vectorizer.transform(X_test['clean_categories'].values)\n",
        "\n",
        "print(\"Shape of matrix after one hot encodig \")\n",
        "print(X_train_categories_ohe.shape)\n",
        "print(X_cv_categories_ohe.shape)\n",
        "print(X_test_categories_ohe.shape)"
      ],
      "execution_count": 12,
      "outputs": [
        {
          "output_type": "stream",
          "text": [
            "Shape of matrix after one hot encodig \n",
            "(53531, 9)\n",
            "(22942, 9)\n",
            "(32775, 9)\n"
          ],
          "name": "stdout"
        }
      ]
    },
    {
      "cell_type": "markdown",
      "metadata": {
        "id": "snESweDD8bgo",
        "colab_type": "text"
      },
      "source": [
        "### one hot encoding for sub categories"
      ]
    },
    {
      "cell_type": "code",
      "metadata": {
        "id": "f8IEiNxn8awl",
        "colab_type": "code",
        "colab": {
          "base_uri": "https://localhost:8080/",
          "height": 85
        },
        "outputId": "3f15237f-4b74-4a42-a1fd-b2af5a65e0f9"
      },
      "source": [
        "vectorizer = CountVectorizer(binary=True)\n",
        "vectorizer.fit(X_train['clean_subcategories'].values)\n",
        "X_train_sub_categories_ohe = vectorizer.transform(X_train['clean_subcategories'].values)\n",
        "X_cv_sub_categories_ohe = vectorizer.transform(X_cv['clean_subcategories'].values)\n",
        "X_test_sub_categories_ohe = vectorizer.transform(X_test['clean_subcategories'].values)\n",
        "\n",
        "print(\"Shape of matrix after one hot encodig \")\n",
        "print(X_train_sub_categories_ohe.shape)\n",
        "print(X_cv_sub_categories_ohe.shape)\n",
        "print(X_test_sub_categories_ohe.shape)"
      ],
      "execution_count": 13,
      "outputs": [
        {
          "output_type": "stream",
          "text": [
            "Shape of matrix after one hot encodig \n",
            "(53531, 30)\n",
            "(22942, 30)\n",
            "(32775, 30)\n"
          ],
          "name": "stdout"
        }
      ]
    },
    {
      "cell_type": "markdown",
      "metadata": {
        "id": "uT7UOsCJlZnV",
        "colab_type": "text"
      },
      "source": [
        "## Concatinating all the features"
      ]
    },
    {
      "cell_type": "markdown",
      "metadata": {
        "id": "7crxlsFUD2Aq",
        "colab_type": "text"
      },
      "source": [
        "### Set 1: categorical, numerical features + preprocessed_eassay (BOW)"
      ]
    },
    {
      "cell_type": "code",
      "metadata": {
        "id": "7tGZpn4rIMaq",
        "colab_type": "code",
        "colab": {
          "base_uri": "https://localhost:8080/",
          "height": 102
        },
        "outputId": "3021504d-5c99-49c7-ca94-3e1ff40fd804"
      },
      "source": [
        "from scipy.sparse import hstack\n",
        "X_train_set_1 = hstack((X_train_categories_ohe,X_train_project_grade_category_ohe,X_train_school_state_ohe,X_train_sub_categories_ohe,X_train_teacher_prefix_ohe, X_train_price_norm, X_train_preposted_projects_norm,X_train_essay_bow)).tocsr()\n",
        "X_cv_set_1 = hstack((X_cv_categories_ohe,X_cv_project_grade_category_ohe,X_cv_school_state_ohe,X_cv_sub_categories_ohe,X_cv_teacher_prefix_ohe, X_cv_price_norm, X_cv_preposted_projects_norm,X_cv_essay_bow)).tocsr()\n",
        "X_test_set_1 = hstack((X_test_categories_ohe,X_test_project_grade_category_ohe,X_test_school_state_ohe,X_test_sub_categories_ohe,X_test_teacher_prefix_ohe, X_test_price_norm, X_test_preposted_projects_norm,X_test_essay_bow)).tocsr()\n",
        "\n",
        "\n",
        "\n",
        "print(\"Final Data matrix of set 1\")\n",
        "print(X_train_set_1.shape, y_train.shape)\n",
        "print(X_cv_set_1.shape, y_cv.shape)\n",
        "print(X_test_set_1.shape, y_test.shape)\n",
        "print(\"=\"*100)\n"
      ],
      "execution_count": 16,
      "outputs": [
        {
          "output_type": "stream",
          "text": [
            "Final Data matrix of set 1\n",
            "(53531, 182601) (53531,)\n",
            "(22942, 182601) (22942,)\n",
            "(32775, 182601) (32775,)\n",
            "====================================================================================================\n"
          ],
          "name": "stdout"
        }
      ]
    },
    {
      "cell_type": "markdown",
      "metadata": {
        "id": "uGOgpR3XD5T3",
        "colab_type": "text"
      },
      "source": [
        "### Set 2: categorical, numerical features + preprocessed_eassay (TFIDF)"
      ]
    },
    {
      "cell_type": "code",
      "metadata": {
        "id": "EswLgwYuBuEP",
        "colab_type": "code",
        "colab": {
          "base_uri": "https://localhost:8080/",
          "height": 85
        },
        "outputId": "6ae8ecf4-4b2a-45a3-d60c-f904144dacce"
      },
      "source": [
        "X_train_set_2 = hstack((X_train_categories_ohe,X_train_project_grade_category_ohe,\n",
        "                        X_train_school_state_ohe,X_train_sub_categories_ohe,\n",
        "                        X_train_teacher_prefix_ohe, X_train_price_norm, \n",
        "                        X_train_preposted_projects_norm,\n",
        "                        X_train_essay_tf_idf)).tocsr()\n",
        "X_cv_set_2 = hstack((X_cv_categories_ohe,X_cv_project_grade_category_ohe,\n",
        "                     X_cv_school_state_ohe,X_cv_sub_categories_ohe,\n",
        "                     X_cv_teacher_prefix_ohe, X_cv_price_norm, \n",
        "                     X_cv_preposted_projects_norm,\n",
        "                     X_cv_essay_tf_idf)).tocsr()\n",
        "X_test_set_2 = hstack((X_test_categories_ohe,X_test_project_grade_category_ohe,\n",
        "                       X_test_school_state_ohe,X_test_sub_categories_ohe,\n",
        "                       X_test_teacher_prefix_ohe, X_test_price_norm, \n",
        "                       X_test_preposted_projects_norm,\n",
        "                       X_test_essay_tf_idf)).tocsr()\n",
        "\n",
        "print(\"Final Data matrix of set 1\")\n",
        "print(X_train_set_2.shape, y_train.shape)\n",
        "print(X_cv_set_2.shape, y_cv.shape)\n",
        "print(X_test_set_2.shape, y_test.shape)\n"
      ],
      "execution_count": 18,
      "outputs": [
        {
          "output_type": "stream",
          "text": [
            "Final Data matrix of set 1\n",
            "(53531, 12698) (53531,)\n",
            "(22942, 12698) (22942,)\n",
            "(32775, 12698) (32775,)\n"
          ],
          "name": "stdout"
        }
      ]
    },
    {
      "cell_type": "markdown",
      "metadata": {
        "id": "sv4_Ad65b4O1",
        "colab_type": "text"
      },
      "source": [
        ""
      ]
    },
    {
      "cell_type": "code",
      "metadata": {
        "id": "nRW0uScdDmxZ",
        "colab_type": "code",
        "colab": {}
      },
      "source": [
        "def batch_predict(clf, data):\n",
        "    # roc_auc_score(y_true, y_score) the 2nd parameter should be probability estimates of the positive class\n",
        "    # not the predicted outputs\n",
        "\n",
        "    y_data_pred = []\n",
        "    tr_loop = data.shape[0] - data.shape[0]%1000\n",
        "    # consider you X_tr shape is 49041, then your cr_loop will be 49041 - 49041%1000 = 49000\n",
        "    # in this for loop we will iterate unti the last 1000 multiplier\n",
        "    for i in range(0, tr_loop, 1000):\n",
        "        y_data_pred.extend(clf.predict_proba(data[i:i+1000])[:,1])\n",
        "    # we will be predicting for the last data points\n",
        "    y_data_pred.extend(clf.predict_proba(data[tr_loop:])[:,1])\n",
        "    \n",
        "    return y_data_pred"
      ],
      "execution_count": 19,
      "outputs": []
    },
    {
      "cell_type": "markdown",
      "metadata": {
        "id": "QorPX36GK0E_",
        "colab_type": "text"
      },
      "source": [
        "### hyper parameter tuning using set 1 data and plotting performance of model on each hyper parameter"
      ]
    },
    {
      "cell_type": "code",
      "metadata": {
        "id": "LToVi-d7FuCZ",
        "colab_type": "code",
        "colab": {
          "base_uri": "https://localhost:8080/",
          "height": 400
        },
        "outputId": "59fee88c-aad6-4389-c817-a1e63e73484f"
      },
      "source": [
        "import matplotlib.pyplot as plt\n",
        "from sklearn.naive_bayes import MultinomialNB\n",
        "from sklearn.metrics import roc_auc_score\n",
        "import math\n",
        "from tqdm import tqdm\n",
        "\n",
        "train_auc = []\n",
        "cv_auc = []\n",
        "log_alpha=[]\n",
        "\n",
        "alpha = [0.001, 0.01, 0.1, 0.5, 1, 5, 10,50,100,500]\n",
        "\n",
        "for i in tqdm(alpha):\n",
        "    MultinomialNB_bow = MultinomialNB(alpha=i,class_prior=[0.5,0.5])\n",
        "    MultinomialNB_bow.fit(X_train_set_1, y_train)\n",
        "\n",
        "    y_train_pred = batch_predict(MultinomialNB_bow, X_train_set_1)    \n",
        "    y_cv_pred = batch_predict(MultinomialNB_bow, X_cv_set_1)\n",
        "          \n",
        "    train_auc.append(roc_auc_score(y_train,y_train_pred))\n",
        "    cv_auc.append(roc_auc_score(y_cv, y_cv_pred))\n",
        "    \n",
        "for a in tqdm(alpha):\n",
        "    b = math.log(a)\n",
        "    log_alpha.append(b)\n",
        "    \n",
        "print(alpha)\n",
        "print('*'*100)\n",
        "print(log_alpha)\n",
        "\n",
        "plt.plot(log_alpha, train_auc, label='Train AUC')\n",
        "plt.plot(log_alpha, cv_auc, label='CV AUC')\n",
        "\n",
        "plt.scatter(log_alpha, train_auc, label='Train AUC points')\n",
        "plt.scatter(log_alpha, cv_auc, label='CV AUC points')\n",
        "\n",
        "plt.legend()\n",
        "plt.xlabel(\"alpha: hyperparameter\")\n",
        "plt.ylabel(\"AUC\")\n",
        "plt.title(\"ERROR PLOTS\")\n",
        "plt.grid()\n",
        "plt.show()"
      ],
      "execution_count": 30,
      "outputs": [
        {
          "output_type": "stream",
          "text": [
            "100%|██████████| 10/10 [00:05<00:00,  1.88it/s]\n",
            "100%|██████████| 10/10 [00:00<00:00, 27832.14it/s]\n"
          ],
          "name": "stderr"
        },
        {
          "output_type": "stream",
          "text": [
            "[0.001, 0.01, 0.1, 0.5, 1, 5, 10, 50, 100, 500]\n",
            "****************************************************************************************************\n",
            "[-6.907755278982137, -4.605170185988091, -2.3025850929940455, -0.6931471805599453, 0.0, 1.6094379124341003, 2.302585092994046, 3.912023005428146, 4.605170185988092, 6.214608098422191]\n"
          ],
          "name": "stdout"
        },
        {
          "output_type": "display_data",
          "data": {
            "image/png": "[encoded data removed]",
            "text/plain": [
              "<Figure size 432x288 with 1 Axes>"
            ]
          },
          "metadata": {
            "tags": [],
            "needs_background": "light"
          }
        }
      ]
    },
    {
      "cell_type": "code",
      "metadata": {
        "id": "9zD4_cTVGbED",
        "colab_type": "code",
        "colab": {}
      },
      "source": [
        "best_alpha = 0.5"
      ],
      "execution_count": 23,
      "outputs": []
    },
    {
      "cell_type": "code",
      "metadata": {
        "id": "bhSFcamkGhRi",
        "colab_type": "code",
        "colab": {
          "base_uri": "https://localhost:8080/",
          "height": 295
        },
        "outputId": "23dd5329-07ff-4279-ec29-047be7fecd76"
      },
      "source": [
        "from sklearn.metrics import roc_curve, auc\n",
        "# https://scikit-learn.org/stable/modules/generated/sklearn.metrics.roc_curve.html#sklearn.metrics.roc_curve\n",
        "MultinomialNB_bow = MultinomialNB(alpha =best_alpha)\n",
        "MultinomialNB_bow.fit(X_train_set_1, y_train)\n",
        "\n",
        "\n",
        "y_train_pred = batch_predict(MultinomialNB_bow, X_train_set_1)    \n",
        "y_test_pred = batch_predict(MultinomialNB_bow, X_test_set_1)\n",
        "\n",
        "train_fpr, train_tpr, tr_thresholds = roc_curve(y_train, y_train_pred)\n",
        "test_fpr, test_tpr, te_thresholds = roc_curve(y_test, y_test_pred)\n",
        "\n",
        "plt.plot(train_fpr, train_tpr, label=\"train AUC =\"+str(auc(train_fpr, train_tpr)))\n",
        "plt.plot(test_fpr, test_tpr, label=\"test AUC =\"+str(auc(test_fpr, test_tpr)))\n",
        "plt.legend()\n",
        "plt.xlabel(\"K: hyperparameter\")\n",
        "plt.ylabel(\"AUC\")\n",
        "plt.title(\"ERROR PLOTS\")\n",
        "plt.grid()\n",
        "plt.show()"
      ],
      "execution_count": 24,
      "outputs": [
        {
          "output_type": "display_data",
          "data": {
            "image/png": "[encoded data removed]",
            "text/plain": [
              "<Figure size 432x288 with 1 Axes>"
            ]
          },
          "metadata": {
            "tags": [],
            "needs_background": "light"
          }
        }
      ]
    },
    {
      "cell_type": "code",
      "metadata": {
        "id": "KBYUcyZtJtBY",
        "colab_type": "code",
        "colab": {}
      },
      "source": [
        "import numpy as np\n",
        "\n",
        "def find_best_threshold(threshould, fpr, tpr):\n",
        "    t = threshould[np.argmax(tpr*(1-fpr))]\n",
        "    # (tpr*(1-fpr)) will be maximum if your fpr is very low and tpr is very high\n",
        "    print(\"the maximum value of tpr*(1-fpr)\", max(tpr*(1-fpr)), \"for threshold\", np.round(t,3))\n",
        "    return t\n",
        "\n",
        "def predict_with_best_t(proba, threshould):\n",
        "    predictions = []\n",
        "    for i in proba:\n",
        "        if i>=threshould:\n",
        "            predictions.append(1)\n",
        "        else:\n",
        "            predictions.append(0)\n",
        "    return predictions"
      ],
      "execution_count": 25,
      "outputs": []
    },
    {
      "cell_type": "code",
      "metadata": {
        "id": "UW6ckD6UKKuw",
        "colab_type": "code",
        "colab": {
          "base_uri": "https://localhost:8080/",
          "height": 153
        },
        "outputId": "7d5ffb85-cc5f-48f6-8f9c-3ff7f71b5ade"
      },
      "source": [
        "\n",
        "print(\"=\"*100)\n",
        "from sklearn.metrics import confusion_matrix\n",
        "best_t = find_best_threshold(tr_thresholds, train_fpr, train_tpr)\n",
        "print(\"Train confusion matrix\")\n",
        "print(confusion_matrix(y_train, predict_with_best_t(y_train_pred, best_t)))\n",
        "print(\"Test confusion matrix\")\n",
        "print(confusion_matrix(y_test, predict_with_best_t(y_test_pred, best_t)))"
      ],
      "execution_count": 26,
      "outputs": [
        {
          "output_type": "stream",
          "text": [
            "====================================================================================================\n",
            "the maximum value of tpr*(1-fpr) 0.7584387002440371 for threshold 0.696\n",
            "Train confusion matrix\n",
            "[[ 7103  1002]\n",
            " [ 6113 39313]]\n",
            "Test confusion matrix\n",
            "[[ 2060  2903]\n",
            " [ 5152 22660]]\n"
          ],
          "name": "stdout"
        }
      ]
    },
    {
      "cell_type": "markdown",
      "metadata": {
        "id": "-MnABBmJM2hY",
        "colab_type": "text"
      },
      "source": [
        "### hyper parameter tuning using set 2 data and plotting performance of model on each hyper parameter"
      ]
    },
    {
      "cell_type": "code",
      "metadata": {
        "id": "9UjHT7EoKM4j",
        "colab_type": "code",
        "colab": {
          "base_uri": "https://localhost:8080/",
          "height": 400
        },
        "outputId": "909af616-5402-40ee-a75a-f5c54187dd2a"
      },
      "source": [
        "\n",
        "train_auc = []\n",
        "cv_auc = []\n",
        "log_alpha=[]\n",
        "\n",
        "alpha = [0.001, 0.01, 0.1, 0.5, 1, 5, 10,50,100,500,1000,10000]\n",
        "\n",
        "for i in tqdm(alpha):\n",
        "    MultinomialNB_TFIDF = MultinomialNB(alpha=i,class_prior=[0.5,0.5])\n",
        "    MultinomialNB_TFIDF.fit(X_train_set_2, y_train)\n",
        "\n",
        "    y_train_pred = batch_predict(MultinomialNB_TFIDF, X_train_set_2)    \n",
        "    y_cv_pred = batch_predict(MultinomialNB_TFIDF, X_cv_set_2)\n",
        "          \n",
        "    train_auc.append(roc_auc_score(y_train,y_train_pred))\n",
        "    cv_auc.append(roc_auc_score(y_cv, y_cv_pred))\n",
        "    \n",
        "for a in tqdm(alpha):\n",
        "    b = math.log(a)\n",
        "    log_alpha.append(b)\n",
        "    \n",
        "print(alpha)\n",
        "print('*'*100)\n",
        "print(log_alpha)\n",
        "\n",
        "plt.plot(log_alpha, train_auc, label='Train AUC')\n",
        "plt.plot(log_alpha, cv_auc, label='CV AUC')\n",
        "\n",
        "plt.scatter(log_alpha, train_auc, label='Train AUC points')\n",
        "plt.scatter(log_alpha, cv_auc, label='CV AUC points')\n",
        "\n",
        "plt.legend()\n",
        "plt.xlabel(\"alpha: hyperparameter\")\n",
        "plt.ylabel(\"AUC\")\n",
        "plt.title(\"ERROR PLOTS\")\n",
        "plt.grid()\n",
        "plt.show()"
      ],
      "execution_count": 32,
      "outputs": [
        {
          "output_type": "stream",
          "text": [
            "100%|██████████| 12/12 [00:02<00:00,  4.54it/s]\n",
            "100%|██████████| 12/12 [00:00<00:00, 36658.16it/s]"
          ],
          "name": "stderr"
        },
        {
          "output_type": "stream",
          "text": [
            "[0.001, 0.01, 0.1, 0.5, 1, 5, 10, 50, 100, 500, 1000, 10000]\n",
            "****************************************************************************************************\n",
            "[-6.907755278982137, -4.605170185988091, -2.3025850929940455, -0.6931471805599453, 0.0, 1.6094379124341003, 2.302585092994046, 3.912023005428146, 4.605170185988092, 6.214608098422191, 6.907755278982137, 9.210340371976184]\n"
          ],
          "name": "stdout"
        },
        {
          "output_type": "stream",
          "text": [
            "\n"
          ],
          "name": "stderr"
        },
        {
          "output_type": "display_data",
          "data": {
            "image/png": "[encoded data removed]",
            "text/plain": [
              "<Figure size 432x288 with 1 Axes>"
            ]
          },
          "metadata": {
            "tags": [],
            "needs_background": "light"
          }
        }
      ]
    },
    {
      "cell_type": "code",
      "metadata": {
        "id": "m4RFN839M_72",
        "colab_type": "code",
        "colab": {}
      },
      "source": [
        "best_alpha = 0.5"
      ],
      "execution_count": null,
      "outputs": []
    },
    {
      "cell_type": "code",
      "metadata": {
        "id": "fgZ0h1pXOWx0",
        "colab_type": "code",
        "colab": {
          "base_uri": "https://localhost:8080/",
          "height": 295
        },
        "outputId": "25766143-96a5-49ae-d442-e7585255c1b3"
      },
      "source": [
        "from sklearn.metrics import roc_curve, auc\n",
        "# https://scikit-learn.org/stable/modules/generated/sklearn.metrics.roc_curve.html#sklearn.metrics.roc_curve\n",
        "MultinomialNB_TFIDF = MultinomialNB(alpha =best_alpha)\n",
        "MultinomialNB_TFIDF.fit(X_train_set_2, y_train)\n",
        "\n",
        "\n",
        "y_train_pred = batch_predict(MultinomialNB_TFIDF, X_train_set_2)    \n",
        "y_test_pred = batch_predict(MultinomialNB_TFIDF, X_test_set_2)\n",
        "\n",
        "train_fpr, train_tpr, tr_thresholds = roc_curve(y_train, y_train_pred)\n",
        "test_fpr, test_tpr, te_thresholds = roc_curve(y_test, y_test_pred)\n",
        "\n",
        "plt.plot(train_fpr, train_tpr, label=\"train AUC =\"+str(auc(train_fpr, train_tpr)))\n",
        "plt.plot(test_fpr, test_tpr, label=\"test AUC =\"+str(auc(test_fpr, test_tpr)))\n",
        "plt.legend()\n",
        "plt.xlabel(\"K: hyperparameter\")\n",
        "plt.ylabel(\"AUC\")\n",
        "plt.title(\"ERROR PLOTS\")\n",
        "plt.grid()\n",
        "plt.show()"
      ],
      "execution_count": 28,
      "outputs": [
        {
          "output_type": "display_data",
          "data": {
            "image/png": "[encoded data removed]",
            "text/plain": [
              "<Figure size 432x288 with 1 Axes>"
            ]
          },
          "metadata": {
            "tags": [],
            "needs_background": "light"
          }
        }
      ]
    },
    {
      "cell_type": "code",
      "metadata": {
        "id": "r144-B8hhgFG",
        "colab_type": "code",
        "colab": {
          "base_uri": "https://localhost:8080/",
          "height": 119
        },
        "outputId": "fca21c82-545f-4f32-c2c4-964c95aa1425"
      },
      "source": [
        "from prettytable import PrettyTable\n",
        "\n",
        "x_pretty_table = PrettyTable()\n",
        "x_pretty_table.field_names = [\"Model Type\",\"Vectorizer\", \"Hyper Parameter - alpha\",\"Train-AUC\",\"Test-AUC\"]\n",
        "\n",
        "x_pretty_table.add_row([\"Naive Bayes\",\"BOW\",0.5,0.93,0.68])\n",
        "x_pretty_table.add_row([ \"Naive Bayes\", \"TFIDF\",0.52,0.72,0.65])\n",
        "\n",
        "print(x_pretty_table)"
      ],
      "execution_count": 34,
      "outputs": [
        {
          "output_type": "stream",
          "text": [
            "+-------------+------------+-------------------------+-----------+----------+\n",
            "|  Model Type | Vectorizer | Hyper Parameter - alpha | Train-AUC | Test-AUC |\n",
            "+-------------+------------+-------------------------+-----------+----------+\n",
            "| Naive Bayes |    BOW     |           0.5           |    0.93   |   0.68   |\n",
            "| Naive Bayes |   TFIDF    |           0.52          |    0.72   |   0.65   |\n",
            "+-------------+------------+-------------------------+-----------+----------+\n"
          ],
          "name": "stdout"
        }
      ]
    },
    {
      "cell_type": "code",
      "metadata": {
        "id": "GaRp7dYhjzS8",
        "colab_type": "code",
        "colab": {}
      },
      "source": [
        ""
      ],
      "execution_count": null,
      "outputs": []
    }
  ]
}